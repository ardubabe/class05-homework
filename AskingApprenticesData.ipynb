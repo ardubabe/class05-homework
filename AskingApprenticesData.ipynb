{
 "cells": [
  {
   "cell_type": "code",
   "execution_count": 1,
   "id": "b93e8c3d",
   "metadata": {},
   "outputs": [],
   "source": [
    "import pandas as pd"
   ]
  },
  {
   "cell_type": "code",
   "execution_count": 2,
   "id": "e4668a21",
   "metadata": {},
   "outputs": [],
   "source": [
    "import matplotlib.pyplot as plt"
   ]
  },
  {
   "cell_type": "code",
   "execution_count": 3,
   "id": "dcb19f1a",
   "metadata": {},
   "outputs": [],
   "source": [
    "path = 'AskingApprentices.csv'\n",
    "ask_app = pd.read_csv(path)"
   ]
  },
  {
   "cell_type": "code",
   "execution_count": 4,
   "id": "eb6c7a41",
   "metadata": {},
   "outputs": [
    {
     "data": {
      "text/html": [
       "<div>\n",
       "<style scoped>\n",
       "    .dataframe tbody tr th:only-of-type {\n",
       "        vertical-align: middle;\n",
       "    }\n",
       "\n",
       "    .dataframe tbody tr th {\n",
       "        vertical-align: top;\n",
       "    }\n",
       "\n",
       "    .dataframe thead th {\n",
       "        text-align: right;\n",
       "    }\n",
       "</style>\n",
       "<table border=\"1\" class=\"dataframe\">\n",
       "  <thead>\n",
       "    <tr style=\"text-align: right;\">\n",
       "      <th></th>\n",
       "      <th>name</th>\n",
       "      <th>starsign</th>\n",
       "      <th>gaga_song</th>\n",
       "      <th>pokemon</th>\n",
       "      <th>adobe</th>\n",
       "      <th>mario</th>\n",
       "    </tr>\n",
       "  </thead>\n",
       "  <tbody>\n",
       "    <tr>\n",
       "      <th>0</th>\n",
       "      <td>Jana</td>\n",
       "      <td>Pisces</td>\n",
       "      <td>Born This Way</td>\n",
       "      <td>Water</td>\n",
       "      <td>Illustrator</td>\n",
       "      <td>Bowser</td>\n",
       "    </tr>\n",
       "    <tr>\n",
       "      <th>1</th>\n",
       "      <td>Rocio</td>\n",
       "      <td>Aquarius</td>\n",
       "      <td>Born This Way</td>\n",
       "      <td>Psychic</td>\n",
       "      <td>After Effects</td>\n",
       "      <td>Yoshi</td>\n",
       "    </tr>\n",
       "    <tr>\n",
       "      <th>2</th>\n",
       "      <td>Shi Shi</td>\n",
       "      <td>Aquarius</td>\n",
       "      <td>Born This Way</td>\n",
       "      <td>Water</td>\n",
       "      <td>Illustrator</td>\n",
       "      <td>Mario</td>\n",
       "    </tr>\n",
       "    <tr>\n",
       "      <th>3</th>\n",
       "      <td>Tilly</td>\n",
       "      <td>Gemini</td>\n",
       "      <td>Telephone</td>\n",
       "      <td>Fire</td>\n",
       "      <td>InDesign</td>\n",
       "      <td>Princess Peach</td>\n",
       "    </tr>\n",
       "    <tr>\n",
       "      <th>4</th>\n",
       "      <td>Jasmine</td>\n",
       "      <td>Aries</td>\n",
       "      <td>Alejandro</td>\n",
       "      <td>Psychic</td>\n",
       "      <td>Photoshop</td>\n",
       "      <td>Yoshi</td>\n",
       "    </tr>\n",
       "  </tbody>\n",
       "</table>\n",
       "</div>"
      ],
      "text/plain": [
       "      name  starsign      gaga_song  pokemon          adobe           mario\n",
       "0     Jana    Pisces  Born This Way    Water    Illustrator          Bowser\n",
       "1    Rocio  Aquarius  Born This Way  Psychic  After Effects           Yoshi\n",
       "2  Shi Shi  Aquarius  Born This Way    Water    Illustrator           Mario\n",
       "3    Tilly    Gemini      Telephone     Fire       InDesign  Princess Peach\n",
       "4  Jasmine     Aries      Alejandro  Psychic      Photoshop           Yoshi"
      ]
     },
     "execution_count": 4,
     "metadata": {},
     "output_type": "execute_result"
    }
   ],
   "source": [
    "#First five rows\n",
    "ask_app.head()"
   ]
  },
  {
   "cell_type": "code",
   "execution_count": 5,
   "id": "768e9e53",
   "metadata": {},
   "outputs": [
    {
     "data": {
      "text/html": [
       "<div>\n",
       "<style scoped>\n",
       "    .dataframe tbody tr th:only-of-type {\n",
       "        vertical-align: middle;\n",
       "    }\n",
       "\n",
       "    .dataframe tbody tr th {\n",
       "        vertical-align: top;\n",
       "    }\n",
       "\n",
       "    .dataframe thead th {\n",
       "        text-align: right;\n",
       "    }\n",
       "</style>\n",
       "<table border=\"1\" class=\"dataframe\">\n",
       "  <thead>\n",
       "    <tr style=\"text-align: right;\">\n",
       "      <th></th>\n",
       "      <th>name</th>\n",
       "      <th>starsign</th>\n",
       "      <th>gaga_song</th>\n",
       "      <th>pokemon</th>\n",
       "      <th>adobe</th>\n",
       "      <th>mario</th>\n",
       "    </tr>\n",
       "  </thead>\n",
       "  <tbody>\n",
       "    <tr>\n",
       "      <th>8</th>\n",
       "      <td>Adele</td>\n",
       "      <td>Aquarius</td>\n",
       "      <td>Poker Face</td>\n",
       "      <td>Dragon</td>\n",
       "      <td>Illustrator</td>\n",
       "      <td>Luigi</td>\n",
       "    </tr>\n",
       "    <tr>\n",
       "      <th>9</th>\n",
       "      <td>Beth</td>\n",
       "      <td>Sagittarius</td>\n",
       "      <td>Bad Romance</td>\n",
       "      <td>Electric</td>\n",
       "      <td>Photoshop</td>\n",
       "      <td>Bowser</td>\n",
       "    </tr>\n",
       "    <tr>\n",
       "      <th>10</th>\n",
       "      <td>Kat</td>\n",
       "      <td>Cancer</td>\n",
       "      <td>Bad Romance</td>\n",
       "      <td>Electric</td>\n",
       "      <td>After Effects</td>\n",
       "      <td>Toad</td>\n",
       "    </tr>\n",
       "    <tr>\n",
       "      <th>11</th>\n",
       "      <td>Dara</td>\n",
       "      <td>Gemini</td>\n",
       "      <td>Bad Romance</td>\n",
       "      <td>Water</td>\n",
       "      <td>Illustrator</td>\n",
       "      <td>Princess Peach</td>\n",
       "    </tr>\n",
       "    <tr>\n",
       "      <th>12</th>\n",
       "      <td>Ning Wei</td>\n",
       "      <td>Sagittarius</td>\n",
       "      <td>Poker Face</td>\n",
       "      <td>Ice</td>\n",
       "      <td>Premiere Pro</td>\n",
       "      <td>Mario</td>\n",
       "    </tr>\n",
       "  </tbody>\n",
       "</table>\n",
       "</div>"
      ],
      "text/plain": [
       "        name     starsign    gaga_song   pokemon          adobe  \\\n",
       "8      Adele     Aquarius   Poker Face    Dragon    Illustrator   \n",
       "9       Beth  Sagittarius  Bad Romance  Electric      Photoshop   \n",
       "10       Kat       Cancer  Bad Romance  Electric  After Effects   \n",
       "11      Dara       Gemini  Bad Romance     Water    Illustrator   \n",
       "12  Ning Wei  Sagittarius   Poker Face       Ice   Premiere Pro   \n",
       "\n",
       "             mario  \n",
       "8            Luigi  \n",
       "9           Bowser  \n",
       "10            Toad  \n",
       "11  Princess Peach  \n",
       "12           Mario  "
      ]
     },
     "execution_count": 5,
     "metadata": {},
     "output_type": "execute_result"
    }
   ],
   "source": [
    "#Data within secific rows (row 8 to row 12)\n",
    "ask_app[8:13]"
   ]
  },
  {
   "cell_type": "code",
   "execution_count": 6,
   "id": "fb06e654",
   "metadata": {},
   "outputs": [
    {
     "data": {
      "text/plain": [
       "Index(['name', 'starsign', 'gaga_song', 'pokemon', 'adobe', 'mario'], dtype='object')"
      ]
     },
     "execution_count": 6,
     "metadata": {},
     "output_type": "execute_result"
    }
   ],
   "source": [
    "#Just the headers\n",
    "ask_app.columns"
   ]
  },
  {
   "cell_type": "code",
   "execution_count": 7,
   "id": "6414c333",
   "metadata": {},
   "outputs": [
    {
     "data": {
      "text/html": [
       "<div>\n",
       "<style scoped>\n",
       "    .dataframe tbody tr th:only-of-type {\n",
       "        vertical-align: middle;\n",
       "    }\n",
       "\n",
       "    .dataframe tbody tr th {\n",
       "        vertical-align: top;\n",
       "    }\n",
       "\n",
       "    .dataframe thead th {\n",
       "        text-align: right;\n",
       "    }\n",
       "</style>\n",
       "<table border=\"1\" class=\"dataframe\">\n",
       "  <thead>\n",
       "    <tr style=\"text-align: right;\">\n",
       "      <th></th>\n",
       "      <th>name</th>\n",
       "      <th>starsign</th>\n",
       "      <th>gaga_song</th>\n",
       "      <th>pokemon</th>\n",
       "      <th>adobe</th>\n",
       "      <th>mario</th>\n",
       "    </tr>\n",
       "  </thead>\n",
       "  <tbody>\n",
       "    <tr>\n",
       "      <th>0</th>\n",
       "      <td>Jana</td>\n",
       "      <td>Pisces</td>\n",
       "      <td>Born This Way</td>\n",
       "      <td>Water</td>\n",
       "      <td>Illustrator</td>\n",
       "      <td>Bowser</td>\n",
       "    </tr>\n",
       "    <tr>\n",
       "      <th>1</th>\n",
       "      <td>Rocio</td>\n",
       "      <td>Aquarius</td>\n",
       "      <td>Born This Way</td>\n",
       "      <td>Psychic</td>\n",
       "      <td>After Effects</td>\n",
       "      <td>Yoshi</td>\n",
       "    </tr>\n",
       "    <tr>\n",
       "      <th>2</th>\n",
       "      <td>Shi Shi</td>\n",
       "      <td>Aquarius</td>\n",
       "      <td>Born This Way</td>\n",
       "      <td>Water</td>\n",
       "      <td>Illustrator</td>\n",
       "      <td>Mario</td>\n",
       "    </tr>\n",
       "    <tr>\n",
       "      <th>3</th>\n",
       "      <td>Tilly</td>\n",
       "      <td>Gemini</td>\n",
       "      <td>Telephone</td>\n",
       "      <td>Fire</td>\n",
       "      <td>InDesign</td>\n",
       "      <td>Princess Peach</td>\n",
       "    </tr>\n",
       "    <tr>\n",
       "      <th>4</th>\n",
       "      <td>Jasmine</td>\n",
       "      <td>Aries</td>\n",
       "      <td>Alejandro</td>\n",
       "      <td>Psychic</td>\n",
       "      <td>Photoshop</td>\n",
       "      <td>Yoshi</td>\n",
       "    </tr>\n",
       "    <tr>\n",
       "      <th>5</th>\n",
       "      <td>Jiaze Li</td>\n",
       "      <td>Taurus</td>\n",
       "      <td>Bad Romance</td>\n",
       "      <td>Fire</td>\n",
       "      <td>Photoshop</td>\n",
       "      <td>Princess Peach</td>\n",
       "    </tr>\n",
       "    <tr>\n",
       "      <th>6</th>\n",
       "      <td>Jade</td>\n",
       "      <td>Capricorn</td>\n",
       "      <td>Paparazzi</td>\n",
       "      <td>Ice</td>\n",
       "      <td>Illustrator</td>\n",
       "      <td>Rosalina</td>\n",
       "    </tr>\n",
       "    <tr>\n",
       "      <th>7</th>\n",
       "      <td>Wen</td>\n",
       "      <td>Pisces</td>\n",
       "      <td>Born This Way</td>\n",
       "      <td>Electric</td>\n",
       "      <td>InDesign</td>\n",
       "      <td>Mario</td>\n",
       "    </tr>\n",
       "    <tr>\n",
       "      <th>8</th>\n",
       "      <td>Adele</td>\n",
       "      <td>Aquarius</td>\n",
       "      <td>Poker Face</td>\n",
       "      <td>Dragon</td>\n",
       "      <td>Illustrator</td>\n",
       "      <td>Luigi</td>\n",
       "    </tr>\n",
       "    <tr>\n",
       "      <th>9</th>\n",
       "      <td>Beth</td>\n",
       "      <td>Sagittarius</td>\n",
       "      <td>Bad Romance</td>\n",
       "      <td>Electric</td>\n",
       "      <td>Photoshop</td>\n",
       "      <td>Bowser</td>\n",
       "    </tr>\n",
       "    <tr>\n",
       "      <th>10</th>\n",
       "      <td>Kat</td>\n",
       "      <td>Cancer</td>\n",
       "      <td>Bad Romance</td>\n",
       "      <td>Electric</td>\n",
       "      <td>After Effects</td>\n",
       "      <td>Toad</td>\n",
       "    </tr>\n",
       "    <tr>\n",
       "      <th>11</th>\n",
       "      <td>Dara</td>\n",
       "      <td>Gemini</td>\n",
       "      <td>Bad Romance</td>\n",
       "      <td>Water</td>\n",
       "      <td>Illustrator</td>\n",
       "      <td>Princess Peach</td>\n",
       "    </tr>\n",
       "    <tr>\n",
       "      <th>12</th>\n",
       "      <td>Ning Wei</td>\n",
       "      <td>Sagittarius</td>\n",
       "      <td>Poker Face</td>\n",
       "      <td>Ice</td>\n",
       "      <td>Premiere Pro</td>\n",
       "      <td>Mario</td>\n",
       "    </tr>\n",
       "  </tbody>\n",
       "</table>\n",
       "</div>"
      ],
      "text/plain": [
       "        name     starsign      gaga_song   pokemon          adobe  \\\n",
       "0       Jana       Pisces  Born This Way     Water    Illustrator   \n",
       "1      Rocio     Aquarius  Born This Way   Psychic  After Effects   \n",
       "2    Shi Shi     Aquarius  Born This Way     Water    Illustrator   \n",
       "3      Tilly       Gemini      Telephone      Fire       InDesign   \n",
       "4    Jasmine        Aries      Alejandro   Psychic      Photoshop   \n",
       "5   Jiaze Li       Taurus    Bad Romance      Fire      Photoshop   \n",
       "6       Jade    Capricorn      Paparazzi       Ice    Illustrator   \n",
       "7        Wen       Pisces  Born This Way  Electric       InDesign   \n",
       "8      Adele     Aquarius     Poker Face    Dragon    Illustrator   \n",
       "9       Beth  Sagittarius    Bad Romance  Electric      Photoshop   \n",
       "10       Kat       Cancer    Bad Romance  Electric  After Effects   \n",
       "11      Dara       Gemini    Bad Romance     Water    Illustrator   \n",
       "12  Ning Wei  Sagittarius     Poker Face       Ice   Premiere Pro   \n",
       "\n",
       "             mario  \n",
       "0           Bowser  \n",
       "1            Yoshi  \n",
       "2            Mario  \n",
       "3   Princess Peach  \n",
       "4            Yoshi  \n",
       "5   Princess Peach  \n",
       "6         Rosalina  \n",
       "7            Mario  \n",
       "8            Luigi  \n",
       "9           Bowser  \n",
       "10            Toad  \n",
       "11  Princess Peach  \n",
       "12           Mario  "
      ]
     },
     "metadata": {},
     "output_type": "display_data"
    }
   ],
   "source": [
    "#Shows the whole DataFrame\n",
    "display(ask_app)"
   ]
  },
  {
   "cell_type": "code",
   "execution_count": 8,
   "id": "531775eb",
   "metadata": {},
   "outputs": [
    {
     "data": {
      "text/plain": [
       "0         Jana\n",
       "1        Rocio\n",
       "2      Shi Shi\n",
       "3        Tilly\n",
       "4      Jasmine\n",
       "5     Jiaze Li\n",
       "6         Jade\n",
       "7          Wen\n",
       "8        Adele\n",
       "9         Beth\n",
       "10         Kat\n",
       "11        Dara\n",
       "12    Ning Wei\n",
       "Name: name, dtype: object"
      ]
     },
     "execution_count": 8,
     "metadata": {},
     "output_type": "execute_result"
    }
   ],
   "source": [
    "#Can't use dot notation because my header has spaces\n",
    "ask_app.name"
   ]
  },
  {
   "cell_type": "code",
   "execution_count": 10,
   "id": "1a4df5a8",
   "metadata": {},
   "outputs": [
    {
     "data": {
      "text/html": [
       "<div>\n",
       "<style scoped>\n",
       "    .dataframe tbody tr th:only-of-type {\n",
       "        vertical-align: middle;\n",
       "    }\n",
       "\n",
       "    .dataframe tbody tr th {\n",
       "        vertical-align: top;\n",
       "    }\n",
       "\n",
       "    .dataframe thead th {\n",
       "        text-align: right;\n",
       "    }\n",
       "</style>\n",
       "<table border=\"1\" class=\"dataframe\">\n",
       "  <thead>\n",
       "    <tr style=\"text-align: right;\">\n",
       "      <th></th>\n",
       "      <th>name</th>\n",
       "      <th>starsign</th>\n",
       "      <th>gaga_song</th>\n",
       "      <th>pokemon</th>\n",
       "      <th>adobe</th>\n",
       "      <th>mario</th>\n",
       "    </tr>\n",
       "  </thead>\n",
       "  <tbody>\n",
       "    <tr>\n",
       "      <th>10</th>\n",
       "      <td>Kat</td>\n",
       "      <td>Cancer</td>\n",
       "      <td>Bad Romance</td>\n",
       "      <td>Electric</td>\n",
       "      <td>After Effects</td>\n",
       "      <td>Toad</td>\n",
       "    </tr>\n",
       "  </tbody>\n",
       "</table>\n",
       "</div>"
      ],
      "text/plain": [
       "   name starsign    gaga_song   pokemon          adobe mario\n",
       "10  Kat   Cancer  Bad Romance  Electric  After Effects  Toad"
      ]
     },
     "execution_count": 10,
     "metadata": {},
     "output_type": "execute_result"
    }
   ],
   "source": [
    "#Getting all the answers by Kat\n",
    "ask_app.loc[ask_app.name == 'Kat']"
   ]
  },
  {
   "cell_type": "code",
   "execution_count": 12,
   "id": "580feccb",
   "metadata": {},
   "outputs": [
    {
     "name": "stdout",
     "output_type": "stream",
     "text": [
      "1      Rocio\n",
      "2    Shi Shi\n",
      "8      Adele\n",
      "Name: name, dtype: object\n"
     ]
    }
   ],
   "source": [
    "#Locating names of those with aquarius starsign\n",
    "aquarius = ask_app.loc[ask_app.starsign == 'Aquarius', 'name']\n",
    "print(aquarius)"
   ]
  },
  {
   "cell_type": "code",
   "execution_count": 15,
   "id": "71c9b585",
   "metadata": {},
   "outputs": [
    {
     "name": "stdout",
     "output_type": "stream",
     "text": [
      "Series([], Name: name, dtype: object)\n"
     ]
    }
   ],
   "source": [
    "#Locating apprectices who are Earth signs (Capricorn, Taurus, Virgo)\n",
    "earth_signs = ask_app.loc[ask_app.starsign == 'Capricorn' + 'Taurus' + 'Virgo', 'name']\n",
    "print(earth_signs)"
   ]
  },
  {
   "cell_type": "code",
   "execution_count": 16,
   "id": "41c22655",
   "metadata": {},
   "outputs": [
    {
     "data": {
      "text/plain": [
       "0          Pisces\n",
       "1        Aquarius\n",
       "2        Aquarius\n",
       "3          Gemini\n",
       "4           Aries\n",
       "5          Taurus\n",
       "6       Capricorn\n",
       "7          Pisces\n",
       "8        Aquarius\n",
       "9     Sagittarius\n",
       "10         Cancer\n",
       "11         Gemini\n",
       "12    Sagittarius\n",
       "Name: starsign, dtype: object"
      ]
     },
     "execution_count": 16,
     "metadata": {},
     "output_type": "execute_result"
    }
   ],
   "source": [
    "ask_app.starsign"
   ]
  },
  {
   "cell_type": "code",
   "execution_count": 17,
   "id": "cb3bbf91",
   "metadata": {},
   "outputs": [
    {
     "name": "stdout",
     "output_type": "stream",
     "text": [
      "['Pisces' 'Aquarius' 'Gemini' 'Aries' 'Taurus' 'Capricorn' 'Sagittarius'\n",
      " 'Cancer']\n"
     ]
    }
   ],
   "source": [
    "print(ask_app.starsign.unique())"
   ]
  },
  {
   "cell_type": "code",
   "execution_count": 20,
   "id": "7e5503a7",
   "metadata": {},
   "outputs": [
    {
     "name": "stdout",
     "output_type": "stream",
     "text": [
      "<pandas.core.groupby.generic.DataFrameGroupBy object at 0x0000023930925B50>\n"
     ]
    }
   ],
   "source": [
    "#Should have asked some questions with number answers so I could practice median and histograms, my bad!\n",
    "type_groupings = ask_app.groupby('pokemon')\n",
    "#type_groupings.pokemon.median()\n",
    "print(type_groupings)"
   ]
  },
  {
   "cell_type": "code",
   "execution_count": 21,
   "id": "04f518ca",
   "metadata": {},
   "outputs": [
    {
     "data": {
      "text/html": [
       "<div>\n",
       "<style scoped>\n",
       "    .dataframe tbody tr th:only-of-type {\n",
       "        vertical-align: middle;\n",
       "    }\n",
       "\n",
       "    .dataframe tbody tr th {\n",
       "        vertical-align: top;\n",
       "    }\n",
       "\n",
       "    .dataframe thead th {\n",
       "        text-align: right;\n",
       "    }\n",
       "</style>\n",
       "<table border=\"1\" class=\"dataframe\">\n",
       "  <thead>\n",
       "    <tr style=\"text-align: right;\">\n",
       "      <th></th>\n",
       "      <th>count</th>\n",
       "      <th>unique</th>\n",
       "      <th>top</th>\n",
       "      <th>freq</th>\n",
       "    </tr>\n",
       "    <tr>\n",
       "      <th>pokemon</th>\n",
       "      <th></th>\n",
       "      <th></th>\n",
       "      <th></th>\n",
       "      <th></th>\n",
       "    </tr>\n",
       "  </thead>\n",
       "  <tbody>\n",
       "    <tr>\n",
       "      <th>Dragon</th>\n",
       "      <td>1</td>\n",
       "      <td>1</td>\n",
       "      <td>Dragon</td>\n",
       "      <td>1</td>\n",
       "    </tr>\n",
       "    <tr>\n",
       "      <th>Electric</th>\n",
       "      <td>3</td>\n",
       "      <td>1</td>\n",
       "      <td>Electric</td>\n",
       "      <td>3</td>\n",
       "    </tr>\n",
       "    <tr>\n",
       "      <th>Fire</th>\n",
       "      <td>2</td>\n",
       "      <td>1</td>\n",
       "      <td>Fire</td>\n",
       "      <td>2</td>\n",
       "    </tr>\n",
       "    <tr>\n",
       "      <th>Ice</th>\n",
       "      <td>2</td>\n",
       "      <td>1</td>\n",
       "      <td>Ice</td>\n",
       "      <td>2</td>\n",
       "    </tr>\n",
       "    <tr>\n",
       "      <th>Psychic</th>\n",
       "      <td>2</td>\n",
       "      <td>1</td>\n",
       "      <td>Psychic</td>\n",
       "      <td>2</td>\n",
       "    </tr>\n",
       "    <tr>\n",
       "      <th>Water</th>\n",
       "      <td>3</td>\n",
       "      <td>1</td>\n",
       "      <td>Water</td>\n",
       "      <td>3</td>\n",
       "    </tr>\n",
       "  </tbody>\n",
       "</table>\n",
       "</div>"
      ],
      "text/plain": [
       "         count unique       top freq\n",
       "pokemon                             \n",
       "Dragon       1      1    Dragon    1\n",
       "Electric     3      1  Electric    3\n",
       "Fire         2      1      Fire    2\n",
       "Ice          2      1       Ice    2\n",
       "Psychic      2      1   Psychic    2\n",
       "Water        3      1     Water    3"
      ]
     },
     "execution_count": 21,
     "metadata": {},
     "output_type": "execute_result"
    }
   ],
   "source": [
    "#Most people would choose Electric or Water pokemon type\n",
    "type_groupings.pokemon.describe()"
   ]
  },
  {
   "cell_type": "code",
   "execution_count": 22,
   "id": "b9d5b8ab",
   "metadata": {},
   "outputs": [
    {
     "data": {
      "text/plain": [
       "array(['Illustrator', 'After Effects', 'InDesign', 'Photoshop',\n",
       "       'Premiere Pro'], dtype=object)"
      ]
     },
     "execution_count": 22,
     "metadata": {},
     "output_type": "execute_result"
    }
   ],
   "source": [
    "ask_app.adobe.unique()"
   ]
  },
  {
   "cell_type": "code",
   "execution_count": 23,
   "id": "49004954",
   "metadata": {},
   "outputs": [
    {
     "data": {
      "text/plain": [
       "0       Illustrator\n",
       "1     After Effects\n",
       "2       Illustrator\n",
       "3          InDesign\n",
       "4         Photoshop\n",
       "5         Photoshop\n",
       "6       Illustrator\n",
       "7          InDesign\n",
       "8       Illustrator\n",
       "9         Photoshop\n",
       "10    After Effects\n",
       "11      Illustrator\n",
       "12     Premiere Pro\n",
       "Name: adobe, dtype: object"
      ]
     },
     "execution_count": 23,
     "metadata": {},
     "output_type": "execute_result"
    }
   ],
   "source": [
    "ask_app.adobe"
   ]
  },
  {
   "cell_type": "code",
   "execution_count": 25,
   "id": "41cc9cc8",
   "metadata": {},
   "outputs": [],
   "source": [
    "illustrator = ask_app[[x for x in ask_app.adobe == 'Illustrator']]"
   ]
  },
  {
   "cell_type": "code",
   "execution_count": 22,
   "id": "76c842fd",
   "metadata": {},
   "outputs": [
    {
     "data": {
      "text/html": [
       "<div>\n",
       "<style scoped>\n",
       "    .dataframe tbody tr th:only-of-type {\n",
       "        vertical-align: middle;\n",
       "    }\n",
       "\n",
       "    .dataframe tbody tr th {\n",
       "        vertical-align: top;\n",
       "    }\n",
       "\n",
       "    .dataframe thead th {\n",
       "        text-align: right;\n",
       "    }\n",
       "</style>\n",
       "<table border=\"1\" class=\"dataframe\">\n",
       "  <thead>\n",
       "    <tr style=\"text-align: right;\">\n",
       "      <th></th>\n",
       "      <th>Timestamp</th>\n",
       "      <th>What's your name?</th>\n",
       "      <th>What is your Starsign?</th>\n",
       "      <th>What's your favorite Lady Gaga song?</th>\n",
       "      <th>If you were a Pokemon type would you be?</th>\n",
       "      <th>If you were one of the Adobe Suite, which one would you be?</th>\n",
       "      <th>Who is your favorite Mario character?</th>\n",
       "    </tr>\n",
       "  </thead>\n",
       "  <tbody>\n",
       "    <tr>\n",
       "      <th>0</th>\n",
       "      <td>2022/11/16 1:58:55 PM GMT</td>\n",
       "      <td>Jana</td>\n",
       "      <td>Pisces</td>\n",
       "      <td>Born This Way</td>\n",
       "      <td>Water</td>\n",
       "      <td>Illustrator</td>\n",
       "      <td>Bowser</td>\n",
       "    </tr>\n",
       "    <tr>\n",
       "      <th>2</th>\n",
       "      <td>2022/11/16 2:00:05 PM GMT</td>\n",
       "      <td>Shi Shi</td>\n",
       "      <td>Aquarius</td>\n",
       "      <td>Born This Way</td>\n",
       "      <td>Water</td>\n",
       "      <td>Illustrator</td>\n",
       "      <td>Mario</td>\n",
       "    </tr>\n",
       "    <tr>\n",
       "      <th>6</th>\n",
       "      <td>2022/11/16 5:08:54 PM GMT</td>\n",
       "      <td>Jade</td>\n",
       "      <td>Capricorn</td>\n",
       "      <td>Paparazzi</td>\n",
       "      <td>Ice</td>\n",
       "      <td>Illustrator</td>\n",
       "      <td>Rosalina</td>\n",
       "    </tr>\n",
       "    <tr>\n",
       "      <th>8</th>\n",
       "      <td>2022/11/16 8:38:26 PM GMT</td>\n",
       "      <td>Adele</td>\n",
       "      <td>Aquarius</td>\n",
       "      <td>Poker Face</td>\n",
       "      <td>Dragon</td>\n",
       "      <td>Illustrator</td>\n",
       "      <td>Luigi</td>\n",
       "    </tr>\n",
       "    <tr>\n",
       "      <th>11</th>\n",
       "      <td>2022/11/18 12:02:24 PM GMT</td>\n",
       "      <td>Dara</td>\n",
       "      <td>Gemini</td>\n",
       "      <td>Bad Romance</td>\n",
       "      <td>Water</td>\n",
       "      <td>Illustrator</td>\n",
       "      <td>Princess Peach</td>\n",
       "    </tr>\n",
       "  </tbody>\n",
       "</table>\n",
       "</div>"
      ],
      "text/plain": [
       "                     Timestamp What's your name? What is your Starsign?  \\\n",
       "0    2022/11/16 1:58:55 PM GMT              Jana                 Pisces   \n",
       "2    2022/11/16 2:00:05 PM GMT           Shi Shi               Aquarius   \n",
       "6    2022/11/16 5:08:54 PM GMT              Jade              Capricorn   \n",
       "8    2022/11/16 8:38:26 PM GMT             Adele               Aquarius   \n",
       "11  2022/11/18 12:02:24 PM GMT              Dara                 Gemini   \n",
       "\n",
       "   What's your favorite Lady Gaga song?  \\\n",
       "0                         Born This Way   \n",
       "2                         Born This Way   \n",
       "6                             Paparazzi   \n",
       "8                            Poker Face   \n",
       "11                          Bad Romance   \n",
       "\n",
       "   If you were a Pokemon type would you be?  \\\n",
       "0                                     Water   \n",
       "2                                     Water   \n",
       "6                                       Ice   \n",
       "8                                    Dragon   \n",
       "11                                    Water   \n",
       "\n",
       "   If you were one of the Adobe Suite, which one would you be?  \\\n",
       "0                                         Illustrator            \n",
       "2                                         Illustrator            \n",
       "6                                         Illustrator            \n",
       "8                                         Illustrator            \n",
       "11                                        Illustrator            \n",
       "\n",
       "   Who is your favorite Mario character?  \n",
       "0                                 Bowser  \n",
       "2                                  Mario  \n",
       "6                               Rosalina  \n",
       "8                                  Luigi  \n",
       "11                        Princess Peach  "
      ]
     },
     "execution_count": 22,
     "metadata": {},
     "output_type": "execute_result"
    }
   ],
   "source": [
    "#Those who pick Illustrator also tend to choose water pokemon type, also more often Aquarius, likes Born This Way\n",
    "illustrator"
   ]
  },
  {
   "cell_type": "code",
   "execution_count": 29,
   "id": "78da1248",
   "metadata": {},
   "outputs": [
    {
     "name": "stdout",
     "output_type": "stream",
     "text": [
      "0         Jana\n",
      "1        Rocio\n",
      "2      Shi Shi\n",
      "3        Tilly\n",
      "4      Jasmine\n",
      "5     Jiaze Li\n",
      "6         Jade\n",
      "7          Wen\n",
      "8        Adele\n",
      "9         Beth\n",
      "10         Kat\n",
      "11        Dara\n",
      "12    Ning Wei\n",
      "Name: name, dtype: object\n"
     ]
    }
   ],
   "source": [
    "#Turning headers into variable names\n",
    "name = ask_app.name\n",
    "\n",
    "print(name)"
   ]
  },
  {
   "cell_type": "code",
   "execution_count": 28,
   "id": "0c17fafb",
   "metadata": {},
   "outputs": [
    {
     "name": "stdout",
     "output_type": "stream",
     "text": [
      "0             Bowser\n",
      "1              Yoshi\n",
      "2              Mario\n",
      "3     Princess Peach\n",
      "4              Yoshi\n",
      "5     Princess Peach\n",
      "6           Rosalina\n",
      "7              Mario\n",
      "8              Luigi\n",
      "9             Bowser\n",
      "10              Toad\n",
      "11    Princess Peach\n",
      "12             Mario\n",
      "Name: mario, dtype: object\n"
     ]
    }
   ],
   "source": [
    "mario_characters = ask_app.mario\n",
    "\n",
    "print(mario_characters)"
   ]
  },
  {
   "cell_type": "code",
   "execution_count": 30,
   "id": "7094f37c",
   "metadata": {},
   "outputs": [
    {
     "name": "stdout",
     "output_type": "stream",
     "text": [
      "['Jana, Bowser', 'Rocio, Yoshi', 'Shi Shi, Mario', 'Tilly, Princess Peach', 'Jasmine, Yoshi', 'Jiaze Li, Princess Peach', 'Jade, Rosalina', 'Wen, Mario', 'Adele, Luigi', 'Beth, Bowser', 'Kat, Toad', 'Dara, Princess Peach', 'Ning Wei, Mario']\n"
     ]
    }
   ],
   "source": [
    "#Making a list of names and what mario character they chose using list comprehension\n",
    "everyones_mario_characters = [name + \",\" + \" \" + mario_characters for name,mario_characters in zip(name, mario_characters)]\n",
    "print(everyones_mario_characters)"
   ]
  },
  {
   "cell_type": "code",
   "execution_count": null,
   "id": "7131de9a",
   "metadata": {},
   "outputs": [],
   "source": []
  }
 ],
 "metadata": {
  "kernelspec": {
   "display_name": "Python 3 (ipykernel)",
   "language": "python",
   "name": "python3"
  },
  "language_info": {
   "codemirror_mode": {
    "name": "ipython",
    "version": 3
   },
   "file_extension": ".py",
   "mimetype": "text/x-python",
   "name": "python",
   "nbconvert_exporter": "python",
   "pygments_lexer": "ipython3",
   "version": "3.11.0"
  }
 },
 "nbformat": 4,
 "nbformat_minor": 5
}
